{
 "cells": [
  {
   "cell_type": "markdown",
   "id": "caaa8630",
   "metadata": {},
   "source": [
    "## Sales"
   ]
  },
  {
   "cell_type": "code",
   "execution_count": 1,
   "id": "0cefcbfc",
   "metadata": {},
   "outputs": [
    {
     "data": {
      "text/plain": [
       "1900.0"
      ]
     },
     "execution_count": 1,
     "metadata": {},
     "output_type": "execute_result"
    }
   ],
   "source": [
    "revenue = 10000\n",
    "tax = 0.19\n",
    "income = revenue * tax\n",
    "income"
   ]
  },
  {
   "cell_type": "code",
   "execution_count": 2,
   "id": "ab2d638b",
   "metadata": {},
   "outputs": [
    {
     "name": "stdout",
     "output_type": "stream",
     "text": [
      "1900.0\n"
     ]
    }
   ],
   "source": [
    "print(income)"
   ]
  },
  {
   "cell_type": "markdown",
   "id": "6b83e3ec",
   "metadata": {},
   "source": [
    "## Summary"
   ]
  },
  {
   "cell_type": "code",
   "execution_count": 3,
   "id": "5035ce5b",
   "metadata": {},
   "outputs": [
    {
     "data": {
      "text/plain": [
       "'1.24.2'"
      ]
     },
     "execution_count": 3,
     "metadata": {},
     "output_type": "execute_result"
    }
   ],
   "source": [
    "import numpy as np\n",
    "\n",
    "np.__version__"
   ]
  },
  {
   "cell_type": "code",
   "execution_count": 4,
   "id": "dadf630f",
   "metadata": {},
   "outputs": [],
   "source": [
    "np.random.rand?"
   ]
  },
  {
   "cell_type": "code",
   "execution_count": null,
   "id": "6b55d260",
   "metadata": {},
   "outputs": [],
   "source": [
    "import imageai"
   ]
  },
  {
   "cell_type": "markdown",
   "id": "05846e47",
   "metadata": {},
   "source": [
    "## Markdown"
   ]
  },
  {
   "cell_type": "markdown",
   "id": "cfeeb065",
   "metadata": {},
   "source": [
    "Examples de *Markdown*\n",
    "Examples de **Markdown**\n",
    "Examples de __Markdown__\n",
    "Examples de `Markdown`\n",
    "\n",
    "\n",
    "```\n",
    "Examples de Markdown\n",
    "```\n",
    "\n",
    "> Python\n",
    "\n",
    "> Code\n",
    "\n",
    "\n",
    "An ordered list:\n",
    "\n",
    "1. One\n",
    "2. Two\n",
    "3. Three\n",
    "\n",
    "\n",
    "An unordered list:\n",
    "\n",
    "- One\n",
    "- Two\n",
    "- Three"
   ]
  },
  {
   "cell_type": "markdown",
   "id": "fe79cf2c",
   "metadata": {},
   "source": [
    "[Google](https://www.google.com/webhp?hl=pt-BR&sa=X&ved=0ahUKEwjX5YP3pZ_-AhUBnpUCHUT7BvgQPAgI)\n",
    "\n",
    "![Python](data:image/jpeg;base64,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)"
   ]
  },
  {
   "cell_type": "markdown",
   "id": "5bb3206d",
   "metadata": {},
   "source": [
    "$y = x^2$\n",
    "\n",
    "$\\frac{1}{n} \\sum_{i=1}^{n}x_{i}$"
   ]
  },
  {
   "cell_type": "markdown",
   "id": "24a5e576",
   "metadata": {},
   "source": [
    "$A = \\begin{pmatrix}\n",
    "a_{1, 1} & a_{1, 2}\\\\\n",
    "a_{2, 1} & a_{2, 2}\n",
    "\\end{pmatrix}$"
   ]
  }
 ],
 "metadata": {
  "kernelspec": {
   "display_name": "Python 3 (ipykernel)",
   "language": "python",
   "name": "python3"
  },
  "language_info": {
   "codemirror_mode": {
    "name": "ipython",
    "version": 3
   },
   "file_extension": ".py",
   "mimetype": "text/x-python",
   "name": "python",
   "nbconvert_exporter": "python",
   "pygments_lexer": "ipython3",
   "version": "3.11.0"
  }
 },
 "nbformat": 4,
 "nbformat_minor": 5
}
